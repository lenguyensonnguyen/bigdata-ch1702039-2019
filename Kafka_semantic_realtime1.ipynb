{
 "cells": [
  {
   "cell_type": "markdown",
   "metadata": {},
   "source": [
    "<h2>\n",
    "    <p>\n",
    "        MÔN BIG DATA 2019\n",
    "    </p>\n",
    "    <p style=\"color:red\">\n",
    "        Nhóm 13 - Le Nguyen Son Nguyen CH1702039\n",
    "    </p>\n",
    "</h2>"
   ]
  },
  {
   "cell_type": "markdown",
   "metadata": {},
   "source": [
    "<h3>\n",
    "    <p>\n",
    "        SỬ DỤNG SPARK VÀ SPARK MACHINE LEARNING LIBRARY ĐỂ TRAIN MODEL PHÂN TÍCH NGỮ NGHĨA DÙNG MULTILAYER PERCEPTRONS (BASIC DEEP LEARNING)\n",
    "    </p>\n",
    "    <p style=\"color: blue\">\n",
    "        Phần áp dụng Model đã train vào phân tích dữ liệu Real Time sử dụng Kafka\n",
    "    </p>\n",
    "     <img src=\"https://i.ibb.co/dWWqFbN/Drawing4.jpg\" alt=\"\" height=\"100%\" width=\"100%\"> \n",
    "</h3>"
   ]
  },
  {
   "cell_type": "markdown",
   "metadata": {},
   "source": [
    "<h4>\n",
    "    <p style=\"color:blue\">\n",
    "        Khai báo các biến môi trường để Spark sử dụng trong quá trình chạy\n",
    "    </p>\n",
    "</h4>"
   ]
  },
  {
   "cell_type": "code",
   "execution_count": 1,
   "metadata": {
    "ExecuteTime": {
     "end_time": "2019-11-11T08:17:53.964774Z",
     "start_time": "2019-11-11T08:17:53.929026Z"
    }
   },
   "outputs": [],
   "source": [
    "import os\n",
    "os.environ[\"JAVA_HOME\"] = \"/usr/lib/jvm/java-8-openjdk-amd64\"\n",
    "os.environ[\"SPARK_HOME\"] = \"/home/spark/spark-2.4.3-bin-hadoop2.7\"\n",
    "#os.environ[\"PYSPARK_SUBMIT_ARGS\"] = \"--master local --packages org.apache.spark:spark-streaming-kafka-0-8:2.3.0 pyspark-shell\""
   ]
  },
  {
   "cell_type": "code",
   "execution_count": 2,
   "metadata": {
    "ExecuteTime": {
     "end_time": "2019-11-11T08:17:57.528027Z",
     "start_time": "2019-11-11T08:17:57.514656Z"
    }
   },
   "outputs": [],
   "source": [
    "import findspark\n",
    "findspark.init()"
   ]
  },
  {
   "cell_type": "markdown",
   "metadata": {},
   "source": [
    "<h4>\n",
    "    <p style=\"color:red\">\n",
    "        Import các thư viện của PySpark\n",
    "    </p>\n",
    "</h4>"
   ]
  },
  {
   "cell_type": "code",
   "execution_count": 3,
   "metadata": {
    "ExecuteTime": {
     "end_time": "2019-11-11T08:18:06.622449Z",
     "start_time": "2019-11-11T08:18:05.209219Z"
    }
   },
   "outputs": [],
   "source": [
    "from os import listdir\n",
    "from pyspark import SparkContext\n",
    "from pyspark.ml import PipelineModel\n",
    "from pyspark.sql import SparkSession\n",
    "from pyspark.ml.evaluation import *"
   ]
  },
  {
   "cell_type": "markdown",
   "metadata": {},
   "source": [
    "<h4>\n",
    "    <p style=\"color:blue\">\n",
    "        Khai báo số memory mà mỗi Worker sẽ sử dụng để thực thi task\n",
    "    </p>\n",
    "</h4>"
   ]
  },
  {
   "cell_type": "code",
   "execution_count": 4,
   "metadata": {
    "ExecuteTime": {
     "end_time": "2019-11-11T08:18:38.567647Z",
     "start_time": "2019-11-11T08:18:18.404721Z"
    }
   },
   "outputs": [],
   "source": [
    "SparkContext.setSystemProperty('spark.executor.memory', '6656m')"
   ]
  },
  {
   "cell_type": "markdown",
   "metadata": {},
   "source": [
    "<h4>\n",
    "    <p style=\"color:red\">\n",
    "        Khai báo địa chỉ của Spark master, lưu ý là phải thay đổi địa chỉ cho phù hợp với từng Spark cluster\n",
    "    </p>\n",
    "</h4>"
   ]
  },
  {
   "cell_type": "code",
   "execution_count": 5,
   "metadata": {
    "ExecuteTime": {
     "end_time": "2019-11-11T08:18:57.346154Z",
     "start_time": "2019-11-11T08:18:46.198641Z"
    }
   },
   "outputs": [],
   "source": [
    "# tạo spark context, lưu ý nhớ thay đổi lại địa chỉ của spark cho phù hợp\n",
    "sc = SparkContext(\"spark://10.255.255.6:7077\", \"Kafka Semantic Handle Real Time\")\n",
    "spark = SparkSession.builder.getOrCreate()"
   ]
  },
  {
   "cell_type": "markdown",
   "metadata": {},
   "source": [
    "<h4>\n",
    "    <p style=\"color:red\">\n",
    "      Sử dụng lại model (Load Model) đã lưu sử dụng lệnh dưới đây\n",
    "    </p>\n",
    "</h4>"
   ]
  },
  {
   "cell_type": "code",
   "execution_count": 6,
   "metadata": {
    "ExecuteTime": {
     "end_time": "2019-11-11T08:20:54.596515Z",
     "start_time": "2019-11-11T08:19:13.091342Z"
    }
   },
   "outputs": [
    {
     "data": {
      "text/plain": [
       "PipelineModel_16ec0b25fffe"
      ]
     },
     "execution_count": 6,
     "metadata": {},
     "output_type": "execute_result"
    }
   ],
   "source": [
    "pl_model = PipelineModel.load(\"hdfs://s14e18f4e58324b66b78ecd8c831a0c6413-master.uitlab.com:9000/sparkdata/pl2.model\")\n",
    "pl_model"
   ]
  },
  {
   "cell_type": "markdown",
   "metadata": {},
   "source": [
    "<h4>\n",
    "    <p style=\"color:blue\">\n",
    "        Import các thư viện của PySpark Streaming và Kafka sử dụng trong Spark\n",
    "    </p>\n",
    "</h4>"
   ]
  },
  {
   "cell_type": "code",
   "execution_count": 7,
   "metadata": {
    "ExecuteTime": {
     "end_time": "2019-11-11T08:21:01.109143Z",
     "start_time": "2019-11-11T08:21:00.943290Z"
    }
   },
   "outputs": [],
   "source": [
    "from pyspark.streaming import StreamingContext\n",
    "from pyspark.streaming.kafka import KafkaUtils\n",
    "from pyspark.sql.types import *"
   ]
  },
  {
   "cell_type": "markdown",
   "metadata": {},
   "source": [
    "<h4>\n",
    "    <p style=\"color:red\">\n",
    "        Khai báo địa chỉ của Kafka Cluster và topic để lấy dữ liệu\n",
    "    </p>\n",
    "</h4>"
   ]
  },
  {
   "cell_type": "code",
   "execution_count": 8,
   "metadata": {
    "ExecuteTime": {
     "end_time": "2019-11-11T08:21:11.376793Z",
     "start_time": "2019-11-11T08:21:11.361943Z"
    }
   },
   "outputs": [],
   "source": [
    "kafkaBroker = 'localhost:9092'\n",
    "topic = 'spark-sematic-input1'\n",
    "batchTimeDur = 1"
   ]
  },
  {
   "cell_type": "markdown",
   "metadata": {},
   "source": [
    "<h4>\n",
    "    <p style=\"color:blue\">\n",
    "        Tạo đối tượng Streaming, với Time là 1s sẽ fetch dữ liệu một lần\n",
    "    </p>\n",
    "</h4>"
   ]
  },
  {
   "cell_type": "code",
   "execution_count": 9,
   "metadata": {
    "ExecuteTime": {
     "end_time": "2019-11-11T08:21:21.286937Z",
     "start_time": "2019-11-11T08:21:20.552491Z"
    }
   },
   "outputs": [],
   "source": [
    "ssc = StreamingContext(sc, batchTimeDur)"
   ]
  },
  {
   "cell_type": "markdown",
   "metadata": {},
   "source": [
    "<h4>\n",
    "    <p style=\"color:red\">\n",
    "        Tạo luồng Streaming Kafka ứng với Spark Context và Topic đã khai báo\n",
    "    </p>\n",
    "</h4>"
   ]
  },
  {
   "cell_type": "code",
   "execution_count": 10,
   "metadata": {
    "ExecuteTime": {
     "end_time": "2019-11-11T08:21:29.478724Z",
     "start_time": "2019-11-11T08:21:27.992533Z"
    }
   },
   "outputs": [],
   "source": [
    "directKafkaStream = KafkaUtils.createDirectStream(ssc, [topic], {\"metadata.broker.list\": kafkaBroker})"
   ]
  },
  {
   "cell_type": "markdown",
   "metadata": {},
   "source": [
    "<h4>\n",
    "    <p>\n",
    "        Import thư viện xử lý Kafka\n",
    "    </p>\n",
    "</h4>"
   ]
  },
  {
   "cell_type": "code",
   "execution_count": 11,
   "metadata": {
    "ExecuteTime": {
     "end_time": "2019-11-11T08:21:39.210615Z",
     "start_time": "2019-11-11T08:21:37.416038Z"
    }
   },
   "outputs": [],
   "source": [
    "from kafka import KafkaProducer\n",
    "import json"
   ]
  },
  {
   "cell_type": "markdown",
   "metadata": {},
   "source": [
    "<h4>\n",
    "    <p style=\"color:blue\">\n",
    "        Tạo Kafka Producer để đẩy dữ liệu sau khi đã đi qua Model Deep Learning quay ngược trở về Kafka, cung cấp dữ liệu cho các nguồn khác.\n",
    "    </p>\n",
    "</h4>"
   ]
  },
  {
   "cell_type": "code",
   "execution_count": 12,
   "metadata": {
    "ExecuteTime": {
     "end_time": "2019-11-11T08:21:46.984711Z",
     "start_time": "2019-11-11T08:21:46.724168Z"
    }
   },
   "outputs": [],
   "source": [
    "producer = KafkaProducer(bootstrap_servers='localhost:9092')"
   ]
  },
  {
   "cell_type": "markdown",
   "metadata": {},
   "source": [
    "<h4>\n",
    "    <p style=\"color:red\">\n",
    "        Function để xử lý dữ liệu trong Streaming\n",
    "    </p>\n",
    "</h4>"
   ]
  },
  {
   "cell_type": "code",
   "execution_count": 13,
   "metadata": {
    "ExecuteTime": {
     "end_time": "2019-11-11T08:21:55.781424Z",
     "start_time": "2019-11-11T08:21:55.484603Z"
    }
   },
   "outputs": [],
   "source": [
    "def handler(message):\n",
    "    records = message.collect()\n",
    "    data = []\n",
    "    index = 1\n",
    "    for record in records:\n",
    "        key, value = record\n",
    "        #print(value)\n",
    "        data.append((index, value))\n",
    "        index = index + 1\n",
    "    if len(data) > 0:\n",
    "        #print(data)\n",
    "        sentenceDataFrame = spark.createDataFrame(data, [\"id\", \"sentence\"])\n",
    "        new_dt = pl_model.transform(sentenceDataFrame)\n",
    "        new_dt = new_dt.select(\"sentence\", \"prediction\").collect()\n",
    "        \n",
    "        for row in new_dt:\n",
    "            s = row['sentence']\n",
    "            p = row['prediction']\n",
    "            \n",
    "            o = {\n",
    "                'sentence': s,\n",
    "                'prediction': p\n",
    "            }\n",
    "            \n",
    "            j = json.dumps(o)\n",
    "            \n",
    "            print(j)\n",
    "            \n",
    "            j = str.encode(j)\n",
    "            \n",
    "            producer.send(\"spark-sematic-output1\", j)\n",
    "            producer.flush()\n",
    "            \n",
    "            #print(j)\n",
    "            \n",
    "        \n",
    "        #print(new_dt)"
   ]
  },
  {
   "cell_type": "markdown",
   "metadata": {},
   "source": [
    "<h4>\n",
    "    <p>\n",
    "        Đăng ký funtion cho luồng Kafka Streaming\n",
    "    </p>\n",
    "</h4>"
   ]
  },
  {
   "cell_type": "code",
   "execution_count": 14,
   "metadata": {
    "ExecuteTime": {
     "end_time": "2019-11-11T08:22:18.067536Z",
     "start_time": "2019-11-11T08:22:17.903344Z"
    }
   },
   "outputs": [],
   "source": [
    "directKafkaStream.foreachRDD(handler)"
   ]
  },
  {
   "cell_type": "markdown",
   "metadata": {},
   "source": [
    "<h4>\n",
    "    <p style=\"color:blue\">\n",
    "        Start Streaming và xem kết quả.\n",
    "    </p>\n",
    "    <p style=\"color:red\">\n",
    "        Mỗi khi có luồng dữ liệu đến, data sẽ chạy qua model để được giá trị prediction.\n",
    "    </p>\n",
    "    <p style=\"color:red\">\n",
    "        Sau khi có kết quả, data kết quả sẽ được submit lên một topic Kafka mới, Topic output này sẽ là nguồn dữ liệu cho việc lưu trữ xuống MongoDB hoặc được hiển thị lên biểu đồ dạng Real Time.\n",
    "    </p>\n",
    "</h4>"
   ]
  },
  {
   "cell_type": "code",
   "execution_count": null,
   "metadata": {
    "ExecuteTime": {
     "start_time": "2019-11-11T08:22:26.348Z"
    }
   },
   "outputs": [
    {
     "name": "stdout",
     "output_type": "stream",
     "text": [
      "{\"prediction\": 1.0, \"sentence\": \"I only went to see this movie because I have always liked Kevin Costner. I felt that Ashton did a great job in the Butterfly Effect. Unfortunately, even though these two actors were/are capable of good if not great acting moments some of that was missing here. Some of the scenes were just not believable and didn't have enough story line support.<br /><br />Though the movie claims influence from the hurricane Katrina aftermath, there was very little (none) to that effect in the movie.<br /><br />Overall, I liked the fact that the movie brought forward some of what goes into saving lives from a water perspective.<br /><br />The special effects were pretty good and more than a little intimidating. Not sure I'll ever go deep sea fishing again...<br /><br />I expected a little more emotion in the film than what was presented.<br /><br />Definitely a movie that could've been seen on DVD.\"}\n",
      "{\"prediction\": 0.0, \"sentence\": \"\\\"The Dresser\\\" is perhaps the most refined of backstage films. The film is brimming with wit and spirit, for the most part provided by the \\\"energetic\\\" character of Norman (Tom Courtenay). Although his character is clearly gay, and certainly has an attraction for the lead performer (Albert Finney) that he assists, the film never dwells on it or makes it more than it is.<br /><br />The gritty style of Peter Yates that worked so well in \\\"Bullitt\\\" is again on display, and gives the film a sense of realism and coherence. This is much appreciated in a story that could so easily have become tedious. In the end, \\\"The Dresser\\\" will bore many people silly, but it will truly be a delight to those who love British cinema.<br /><br />7.7 out of 10\"}\n",
      "{\"prediction\": 1.0, \"sentence\": \"This film has its detractors, and Courtney's fey dresser may offend some folks (who, frankly, need a good smack upside the head) -- but the film is top notch in every way: engaging, poignant, relevant. Finney, naturally, is larger than life. Courtney makes an ideal foil. I thought the performances to be terribly strong in both leads, and Courtney's character provides plenty of dark humor. The period is well captured, the supporting cast well chosen. This is to be seen and savored like a fine cordial. I only wish it were out on DVD already...(*sigh*)...\"}\n",
      "{\"prediction\": 0.0, \"sentence\": \"An obvious vanity press for Julie in her first movie with Blake. Let's see. Where do we begin. She is a traitor during a world war; she redeems that by falling in love; her friends (who are presumably patriots because they are German citizens) are expendable and must die; and she winds up as a heroine. OK. The scenes with the drunken pilot and the buffoons who work for French intelligence can't even be described, and we won't even mention Rock's romantic scenes with a female. (By the way, when they visit a museum, look at his gaze - I reran it on video and it's priceless). Is it a farce or is it a romantic classic or is it a war movie? I don't know and you won't either.\"}\n",
      "{\"prediction\": 1.0, \"sentence\": \"Rita Hayworth is just stunning at times and, for me, the only reason to watch this silly film. Despite the overdone 1940s lipstick, Rita was one of the all-time glamor women of Hollywood. In fact, for a couple of years I can't imagine anyone that looked better, except maybe Elizabeth Taylor in her prime.<br /><br />Anyway, the co-star of the show, Gene Kelly, does not play his normal likable, at least the kind of guy we all know him from in \\\"Singin' In The Rain.\\\" Here, Kelly's \\\"Danny McGuire\\\" pouts much of the time. Phil Silvers, who I loved on TV at \\\"Sgt. Bilko,\\\" is so stupid in here as \\\"Genius\\\" you will just cringe listening to his dumb jokes....and they are stupid.<br /><br />The visuals are good with great Technicolor, which almost looks terrific. You get to see a lot of pretty women in here, too, not just Hayworth. Unfortunately, the story isn't all that much. It centers around Hayworth deciding about a career choice. Along the way, we get the normal shabby treatment of marriage and we get an insultingly-dumb ending. All in all, an unmemorable film, except as a showcase for Hayworth's beauty.\"}\n"
     ]
    }
   ],
   "source": [
    "ssc.start()\n",
    "ssc.awaitTermination()"
   ]
  },
  {
   "cell_type": "markdown",
   "metadata": {},
   "source": [
    "<h4>\n",
    "    <p>\n",
    "        Kết Thúc một phiên làm việc trong Spark\n",
    "    </p>\n",
    "</h4>"
   ]
  },
  {
   "cell_type": "code",
   "execution_count": 14,
   "metadata": {},
   "outputs": [
    {
     "name": "stdout",
     "output_type": "stream",
     "text": [
      "end_of_code\n"
     ]
    }
   ],
   "source": [
    "print(\"end_of_code\")\n",
    "spark.stop()"
   ]
  },
  {
   "cell_type": "code",
   "execution_count": null,
   "metadata": {},
   "outputs": [],
   "source": []
  }
 ],
 "metadata": {
  "kernelspec": {
   "display_name": "Python 3",
   "language": "python",
   "name": "python3"
  },
  "language_info": {
   "codemirror_mode": {
    "name": "ipython",
    "version": 3
   },
   "file_extension": ".py",
   "mimetype": "text/x-python",
   "name": "python",
   "nbconvert_exporter": "python",
   "pygments_lexer": "ipython3",
   "version": "3.6.6"
  },
  "latex_envs": {
   "LaTeX_envs_menu_present": true,
   "autoclose": false,
   "autocomplete": true,
   "bibliofile": "biblio.bib",
   "cite_by": "apalike",
   "current_citInitial": 1,
   "eqLabelWithNumbers": true,
   "eqNumInitial": 1,
   "hotkeys": {
    "equation": "Ctrl-E",
    "itemize": "Ctrl-I"
   },
   "labels_anchors": false,
   "latex_user_defs": false,
   "report_style_numbering": false,
   "user_envs_cfg": false
  },
  "toc": {
   "base_numbering": 1,
   "nav_menu": {},
   "number_sections": true,
   "sideBar": true,
   "skip_h1_title": false,
   "title_cell": "Table of Contents",
   "title_sidebar": "Contents",
   "toc_cell": false,
   "toc_position": {},
   "toc_section_display": true,
   "toc_window_display": false
  },
  "varInspector": {
   "cols": {
    "lenName": 16,
    "lenType": 16,
    "lenVar": 40
   },
   "kernels_config": {
    "python": {
     "delete_cmd_postfix": "",
     "delete_cmd_prefix": "del ",
     "library": "var_list.py",
     "varRefreshCmd": "print(var_dic_list())"
    },
    "r": {
     "delete_cmd_postfix": ") ",
     "delete_cmd_prefix": "rm(",
     "library": "var_list.r",
     "varRefreshCmd": "cat(var_dic_list()) "
    }
   },
   "types_to_exclude": [
    "module",
    "function",
    "builtin_function_or_method",
    "instance",
    "_Feature"
   ],
   "window_display": true
  }
 },
 "nbformat": 4,
 "nbformat_minor": 2
}
