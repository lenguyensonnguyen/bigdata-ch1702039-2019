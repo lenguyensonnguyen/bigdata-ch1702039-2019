{
 "cells": [
  {
   "cell_type": "markdown",
   "metadata": {},
   "source": [
    "<h2 style=\"color:red\">\n",
    "    <p>\n",
    "        MÔN BIG DATA 2019\n",
    "    </p>\n",
    "    <p>\n",
    "        Nhóm 13 Le Nguyen Son Nguyen - CH1702039\n",
    "    </p>\n",
    "</h2>"
   ]
  },
  {
   "cell_type": "markdown",
   "metadata": {},
   "source": [
    "<h3 style=\"color:red\">\n",
    "    <p>\n",
    "        SỬ DỤNG SPARK VÀ SPARK MACHINE LEARNING LIBRARY ĐỂ TRAIN MODEL PHÂN TÍCH NGỮ NGHĨA DÙNG MULTILAYER PERCEPTRONS (BASIC DEEP LEARNING) có sẵn trong Spark MLib\n",
    "    </p>    \n",
    "</h3>\n",
    "<p>\n",
    "    <a href=\"https://spark.apache.org/docs/latest/ml-classification-regression.html#multilayer-perceptron-classifier\">https://spark.apache.org/docs/latest/ml-classification-regression.html#multilayer-perceptron-classifier</a>\n",
    "    <img src=\"https://www.researchgate.net/profile/Andreas_Holzinger/publication/320687279/figure/fig7/AS:561595223691264@1510906143097/Deep-feed-forward-neural-network-with-two-hidden-layers-blue-balls-In-addition-the.png\" height=\"40%\" width=\"40%\" />\n",
    "    \n",
    "</p>"
   ]
  },
  {
   "cell_type": "markdown",
   "metadata": {},
   "source": [
    "<h4>\n",
    "    <p style=\"color:blue\">\n",
    "        Khai báo các biến môi trường để Spark sử dụng trong quá trình chạy\n",
    "    </p>\n",
    "    </h4>"
   ]
  },
  {
   "cell_type": "code",
   "execution_count": 1,
   "metadata": {
    "ExecuteTime": {
     "end_time": "2019-11-11T05:20:37.468997Z",
     "start_time": "2019-11-11T05:20:37.394862Z"
    }
   },
   "outputs": [],
   "source": [
    "import os\n",
    "os.environ[\"JAVA_HOME\"] = \"/usr/lib/jvm/java-8-openjdk-amd64\"\n",
    "os.environ[\"SPARK_HOME\"] = \"/home/spark/spark-2.4.3-bin-hadoop2.7\""
   ]
  },
  {
   "cell_type": "markdown",
   "metadata": {},
   "source": [
    "<h4>\n",
    "    <p style=\"color: blue\">\n",
    "        Dùng gói findSpark để khởi tạo môi trường chạy\n",
    "    </p>\n",
    "</h4>"
   ]
  },
  {
   "cell_type": "code",
   "execution_count": 2,
   "metadata": {
    "ExecuteTime": {
     "end_time": "2019-11-11T05:20:45.292921Z",
     "start_time": "2019-11-11T05:20:45.234984Z"
    }
   },
   "outputs": [],
   "source": [
    "import findspark\n",
    "findspark.init()"
   ]
  },
  {
   "cell_type": "markdown",
   "metadata": {},
   "source": [
    "<h4>\n",
    "    <p style=\"color:blue\">\n",
    "        Import các thư viện của PySpark\n",
    "    </p>\n",
    "</h4>"
   ]
  },
  {
   "cell_type": "code",
   "execution_count": 3,
   "metadata": {
    "ExecuteTime": {
     "end_time": "2019-11-11T05:20:51.685361Z",
     "start_time": "2019-11-11T05:20:50.778826Z"
    }
   },
   "outputs": [],
   "source": [
    "from pyspark import SparkContext\n",
    "from pyspark.sql import SparkSession\n",
    "from pyspark.ml import Pipeline, PipelineModel\n",
    "from pyspark.ml.feature import Tokenizer, StopWordsRemover, HashingTF, IDF\n",
    "from pyspark.ml.classification import MultilayerPerceptronClassifier\n",
    "from os import listdir"
   ]
  },
  {
   "cell_type": "markdown",
   "metadata": {},
   "source": [
    "<h4>\n",
    "    <p style=\"color:blue\">\n",
    "        Khai báo số memory mà mỗi Worker sẽ sử dụng để thực thi task\n",
    "    </p>\n",
    "</h4>"
   ]
  },
  {
   "cell_type": "code",
   "execution_count": 4,
   "metadata": {
    "ExecuteTime": {
     "end_time": "2019-11-11T05:21:36.539442Z",
     "start_time": "2019-11-11T05:21:13.216917Z"
    }
   },
   "outputs": [],
   "source": [
    "SparkContext.setSystemProperty('spark.executor.memory', '6656m')"
   ]
  },
  {
   "cell_type": "markdown",
   "metadata": {},
   "source": [
    "<h4>\n",
    "    <p>\n",
    "        Khai báo địa chỉ của Spark master, lưu ý là phải thay đổi địa chỉ cho phù hợp với từng Spark cluster\n",
    "    </p>\n",
    "</h4>"
   ]
  },
  {
   "cell_type": "code",
   "execution_count": 5,
   "metadata": {
    "ExecuteTime": {
     "end_time": "2019-11-11T05:22:28.228795Z",
     "start_time": "2019-11-11T05:22:11.499086Z"
    }
   },
   "outputs": [],
   "source": [
    "# tạo spark context, lưu ý nhớ thay đổi lại địa chỉ của spark cho phù hợp\n",
    "sc = SparkContext(\"spark://10.255.255.6:7077\", \"Sematic Analysic training data\")\n",
    "spark = SparkSession.builder.getOrCreate()"
   ]
  },
  {
   "cell_type": "markdown",
   "metadata": {},
   "source": [
    "<h4>\n",
    "    <p style=\"color:blue\">\n",
    "        In ra đối tượng Spark Context\n",
    "    </p>\n",
    "</h4>"
   ]
  },
  {
   "cell_type": "code",
   "execution_count": 6,
   "metadata": {
    "ExecuteTime": {
     "end_time": "2019-11-11T05:22:39.019292Z",
     "start_time": "2019-11-11T05:22:38.897214Z"
    }
   },
   "outputs": [
    {
     "data": {
      "text/html": [
       "\n",
       "        <div>\n",
       "            <p><b>SparkContext</b></p>\n",
       "\n",
       "            <p><a href=\"http://s14e18f4e58324b66b78ecd8c831a0c6413-master.uitlab.com:4040\">Spark UI</a></p>\n",
       "\n",
       "            <dl>\n",
       "              <dt>Version</dt>\n",
       "                <dd><code>v2.4.3</code></dd>\n",
       "              <dt>Master</dt>\n",
       "                <dd><code>spark://10.255.255.6:7077</code></dd>\n",
       "              <dt>AppName</dt>\n",
       "                <dd><code>Sematic Analysic training data</code></dd>\n",
       "            </dl>\n",
       "        </div>\n",
       "        "
      ],
      "text/plain": [
       "<SparkContext master=spark://10.255.255.6:7077 appName=Sematic Analysic training data>"
      ]
     },
     "execution_count": 6,
     "metadata": {},
     "output_type": "execute_result"
    }
   ],
   "source": [
    "sc"
   ]
  },
  {
   "cell_type": "markdown",
   "metadata": {},
   "source": [
    "<h4>\n",
    "    <p style=\"color:blue\">\n",
    "        In ra đối tượng Spark Session\n",
    "    </p>\n",
    "</h4>"
   ]
  },
  {
   "cell_type": "code",
   "execution_count": 7,
   "metadata": {
    "ExecuteTime": {
     "end_time": "2019-11-11T05:23:02.449387Z",
     "start_time": "2019-11-11T05:22:55.899096Z"
    }
   },
   "outputs": [
    {
     "data": {
      "text/html": [
       "\n",
       "            <div>\n",
       "                <p><b>SparkSession - in-memory</b></p>\n",
       "                \n",
       "        <div>\n",
       "            <p><b>SparkContext</b></p>\n",
       "\n",
       "            <p><a href=\"http://s14e18f4e58324b66b78ecd8c831a0c6413-master.uitlab.com:4040\">Spark UI</a></p>\n",
       "\n",
       "            <dl>\n",
       "              <dt>Version</dt>\n",
       "                <dd><code>v2.4.3</code></dd>\n",
       "              <dt>Master</dt>\n",
       "                <dd><code>spark://10.255.255.6:7077</code></dd>\n",
       "              <dt>AppName</dt>\n",
       "                <dd><code>Sematic Analysic training data</code></dd>\n",
       "            </dl>\n",
       "        </div>\n",
       "        \n",
       "            </div>\n",
       "        "
      ],
      "text/plain": [
       "<pyspark.sql.session.SparkSession at 0x7f5001448048>"
      ]
     },
     "execution_count": 7,
     "metadata": {},
     "output_type": "execute_result"
    }
   ],
   "source": [
    "spark"
   ]
  },
  {
   "cell_type": "code",
   "execution_count": 8,
   "metadata": {
    "ExecuteTime": {
     "end_time": "2019-11-11T05:23:10.241370Z",
     "start_time": "2019-11-11T05:23:10.169258Z"
    }
   },
   "outputs": [],
   "source": [
    "# khai báo một số hằng số\n",
    "NUMBER_INSTANCE_FOR_PC = 12500\n",
    "NUMBER_FEATURE_VECTOR = 500"
   ]
  },
  {
   "cell_type": "markdown",
   "metadata": {},
   "source": [
    "<h4>\n",
    "    <p style=\"color:blue\">\n",
    "        Dữ liệu có 2 tập:\n",
    "    </p>\n",
    "    <p style=\"color:red\">\n",
    "        Positive: nhận xét tích cực, chứa các câu nhận xét mang ý nghĩa tích cực, sẽ được đánh label là 1\n",
    "    </p>\n",
    "    <p style=\"color:red\">\n",
    "        Negative: nhận xét tiêu cực, chứa các câu nhận xét mang ý nghĩa tiêu cực, sẽ được đánh label là 0\n",
    "    </p>\n",
    "</h4>"
   ]
  },
  {
   "cell_type": "code",
   "execution_count": 9,
   "metadata": {
    "ExecuteTime": {
     "end_time": "2019-11-11T05:23:20.966423Z",
     "start_time": "2019-11-11T05:23:20.942120Z"
    }
   },
   "outputs": [],
   "source": [
    "# đường dẫn đến tập train positive\n",
    "TRAIN_PATH_POS = \"./semantic_data/aclImdb/train/pos/\"\n",
    "# đường dẫn đến tập train negative\n",
    "TRAIN_PATH_NEG = \"./semantic_data/aclImdb/train/neg/\""
   ]
  },
  {
   "cell_type": "code",
   "execution_count": 10,
   "metadata": {
    "ExecuteTime": {
     "end_time": "2019-11-11T05:23:25.011618Z",
     "start_time": "2019-11-11T05:23:24.978781Z"
    }
   },
   "outputs": [],
   "source": [
    "# biến lưu dữ liệu train cả positive và negative\n",
    "data_train = []"
   ]
  },
  {
   "cell_type": "markdown",
   "metadata": {},
   "source": []
  },
  {
   "cell_type": "code",
   "execution_count": 11,
   "metadata": {
    "ExecuteTime": {
     "end_time": "2019-11-11T05:24:03.039799Z",
     "start_time": "2019-11-11T05:24:02.918645Z"
    }
   },
   "outputs": [
    {
     "data": {
      "text/plain": [
       "<enumerate at 0x7f50014471f8>"
      ]
     },
     "execution_count": 11,
     "metadata": {},
     "output_type": "execute_result"
    }
   ],
   "source": [
    "# đọc dữ liệu của data train positive\n",
    "listfile_pos = listdir(TRAIN_PATH_POS)\n",
    "listfile_pos = enumerate(listfile_pos)\n",
    "listfile_pos"
   ]
  },
  {
   "cell_type": "markdown",
   "metadata": {},
   "source": [
    "<h4>\n",
    "    <p style=\"color:blue\">\n",
    "        Đọc và xử lý để lấy dữ liệu train (positive)\n",
    "    </p>\n",
    "</h4>"
   ]
  },
  {
   "cell_type": "code",
   "execution_count": 12,
   "metadata": {
    "ExecuteTime": {
     "end_time": "2019-11-11T05:24:14.918337Z",
     "start_time": "2019-11-11T05:24:10.851963Z"
    }
   },
   "outputs": [],
   "source": [
    "counter = 1\n",
    "for index, file_pos in listfile_pos:\n",
    "    try:\n",
    "        with open(TRAIN_PATH_POS + file_pos, 'r') as f_pos:\n",
    "            noidung = f_pos.read()\n",
    "            noidung = noidung.lower()\n",
    "            # đánh label cho tập data train positive là 1\n",
    "            data_train.append((index, noidung, 1))\n",
    "        if counter >= NUMBER_INSTANCE_FOR_PC:\n",
    "            break\n",
    "        else:\n",
    "            counter = counter + 1\n",
    "    except Exception as e:\n",
    "        print(e)"
   ]
  },
  {
   "cell_type": "markdown",
   "metadata": {},
   "source": [
    "<h4>\n",
    "    <p style=\"color:blue\">\n",
    "        In ra dữ liệu Train (positive)\n",
    "    </p>\n",
    "</h4>"
   ]
  },
  {
   "cell_type": "code",
   "execution_count": 13,
   "metadata": {
    "ExecuteTime": {
     "end_time": "2019-11-11T05:24:41.791243Z",
     "start_time": "2019-11-11T05:24:41.773143Z"
    }
   },
   "outputs": [
    {
     "data": {
      "text/plain": [
       "12500"
      ]
     },
     "execution_count": 13,
     "metadata": {},
     "output_type": "execute_result"
    }
   ],
   "source": [
    "len(data_train)"
   ]
  },
  {
   "cell_type": "markdown",
   "metadata": {},
   "source": []
  },
  {
   "cell_type": "code",
   "execution_count": 14,
   "metadata": {
    "ExecuteTime": {
     "end_time": "2019-11-11T05:24:51.379539Z",
     "start_time": "2019-11-11T05:24:51.149010Z"
    }
   },
   "outputs": [
    {
     "data": {
      "text/plain": [
       "<enumerate at 0x7f50011c2318>"
      ]
     },
     "execution_count": 14,
     "metadata": {},
     "output_type": "execute_result"
    }
   ],
   "source": [
    "# lấy dữ liệu cho tập data train negative\n",
    "listfile_neg = listdir(TRAIN_PATH_NEG)\n",
    "listfile_neg = enumerate(listfile_neg)\n",
    "listfile_neg"
   ]
  },
  {
   "cell_type": "markdown",
   "metadata": {},
   "source": [
    "<h4>\n",
    "    <p style=\"color:blue\">\n",
    "        Đọc và xử lý để lấy dữ liệu train (negative)\n",
    "    </p>\n",
    "</h4>"
   ]
  },
  {
   "cell_type": "code",
   "execution_count": 15,
   "metadata": {
    "ExecuteTime": {
     "end_time": "2019-11-11T05:25:09.703258Z",
     "start_time": "2019-11-11T05:25:04.167364Z"
    }
   },
   "outputs": [],
   "source": [
    "counter = 1\n",
    "for index, file_neg in listfile_neg:\n",
    "    try:\n",
    "        with open(TRAIN_PATH_NEG + file_neg) as f_neg:\n",
    "            noidung_neg = f_neg.read()\n",
    "            noidung_neg = noidung_neg.lower()\n",
    "            # đánh label cho data train negative là 0\n",
    "            data_train.append((index, noidung_neg, 0))\n",
    "            if counter >= NUMBER_INSTANCE_FOR_PC:\n",
    "                break\n",
    "            else:\n",
    "                counter = counter + 1\n",
    "    except Exception as e:\n",
    "        print(e)"
   ]
  },
  {
   "cell_type": "markdown",
   "metadata": {},
   "source": [
    "<h4>\n",
    "    <p>\n",
    "        Tổng số dòng dữ liệu training là 25,000 dòng\n",
    "    </p>\n",
    "</h4>"
   ]
  },
  {
   "cell_type": "code",
   "execution_count": 16,
   "metadata": {
    "ExecuteTime": {
     "end_time": "2019-11-11T05:25:16.693435Z",
     "start_time": "2019-11-11T05:25:16.667455Z"
    }
   },
   "outputs": [
    {
     "data": {
      "text/plain": [
       "25000"
      ]
     },
     "execution_count": 16,
     "metadata": {},
     "output_type": "execute_result"
    }
   ],
   "source": [
    "len(data_train)"
   ]
  },
  {
   "cell_type": "markdown",
   "metadata": {},
   "source": [
    "<h4>\n",
    "    <p style=\"color:red\">\n",
    "        Tạo đối tượng DataFrame trong Spark để chứa dữ liệu train, đây là kiểu dữ liệu chuẩn trong việc xử lý phân tán và có thể thao tác dưới dạng SQL, lúc này dữ liệu train đã ở dạng phân tán khắp cluster\n",
    "    </p>\n",
    "</h4>"
   ]
  },
  {
   "cell_type": "code",
   "execution_count": 17,
   "metadata": {
    "ExecuteTime": {
     "end_time": "2019-11-11T05:25:52.445542Z",
     "start_time": "2019-11-11T05:25:24.845544Z"
    }
   },
   "outputs": [],
   "source": [
    "# tạo DataFrame trong Spark\n",
    "sentenceDataFrame_train = spark.createDataFrame(data_train, [\"id\", \"sentence\", \"label\"])"
   ]
  },
  {
   "cell_type": "code",
   "execution_count": 18,
   "metadata": {
    "ExecuteTime": {
     "end_time": "2019-11-11T05:28:46.696638Z",
     "start_time": "2019-11-11T05:28:26.670964Z"
    }
   },
   "outputs": [
    {
     "name": "stdout",
     "output_type": "stream",
     "text": [
      "+---+--------------------+-----+\n",
      "| id|            sentence|label|\n",
      "+---+--------------------+-----+\n",
      "|  0|the sopranos was ...|    1|\n",
      "|  1|revenge is the th...|    1|\n",
      "|  2|i know some peopl...|    1|\n",
      "|  3|my very favorite ...|    1|\n",
      "|  4|i don't understan...|    1|\n",
      "|  5|my name is heathe...|    1|\n",
      "|  6|when the bourne i...|    1|\n",
      "|  7|this was one of t...|    1|\n",
      "|  8|the life and time...|    1|\n",
      "|  9|watch on the rhin...|    1|\n",
      "| 10|skip mccoy (richa...|    1|\n",
      "| 11|though i really d...|    1|\n",
      "| 12|unfortunately, be...|    1|\n",
      "| 13|i have seen dirty...|    1|\n",
      "| 14|a wonderful movie...|    1|\n",
      "| 15|this film has sce...|    1|\n",
      "| 16|to me, this revie...|    1|\n",
      "| 17|when you typicall...|    1|\n",
      "| 18|im not a big tim ...|    1|\n",
      "| 19|knowing when to e...|    1|\n",
      "| 20|getting to work o...|    1|\n",
      "| 21|i think \"anyway.....|    1|\n",
      "| 22|i have waited a l...|    1|\n",
      "| 23|i loved this film...|    1|\n",
      "| 24|pet sematary is a...|    1|\n",
      "| 25|as a sequel,this ...|    1|\n",
      "| 26|i think that most...|    1|\n",
      "| 27|visconti's first ...|    1|\n",
      "| 28|this is an excell...|    1|\n",
      "| 29|this is arguably ...|    1|\n",
      "| 30|i actually though...|    1|\n",
      "| 31|this was an exter...|    1|\n",
      "| 32|the \"movie aimed ...|    1|\n",
      "| 33|i just saw this f...|    1|\n",
      "| 34|this is a great m...|    1|\n",
      "| 35|the movie was sub...|    1|\n",
      "| 36|personal taste ru...|    1|\n",
      "| 37|i didn't at all t...|    1|\n",
      "| 38|i got this film a...|    1|\n",
      "| 39|i am so upset tha...|    1|\n",
      "| 40|i don't want to b...|    1|\n",
      "| 41|though this may n...|    1|\n",
      "| 42|i was forced to s...|    1|\n",
      "| 43|(no need to recap...|    1|\n",
      "| 44|what can i say. o...|    1|\n",
      "| 45|\"world's finest\" ...|    1|\n",
      "| 46|really, i think t...|    1|\n",
      "| 47|this is a neat li...|    1|\n",
      "| 48|like other people...|    1|\n",
      "| 49|as a westerner wa...|    1|\n",
      "+---+--------------------+-----+\n",
      "only showing top 50 rows\n",
      "\n"
     ]
    }
   ],
   "source": [
    "sentenceDataFrame_train.show(50)"
   ]
  },
  {
   "cell_type": "markdown",
   "metadata": {},
   "source": [
    "<h4>\n",
    "    <p style=\"color:blue\">\n",
    "        Tạo một cấu trúc Pipeline trong Spark gồm có:\n",
    "    </p>\n",
    "    <p style=\"color:red\">\n",
    "        1. Tokenizer để rời rạc hóa câu trong data train. Ví dụ: \"I am bad\" --> [ \"I\", \"am\", \"bad\" ]\n",
    "    </p>\n",
    "    <p style=\"color:red\">\n",
    "        2. StopWordsRemover để loại bỏ các từ không mang giá trị phân biệt, ví dụ: I, You,...\n",
    "    </p>\n",
    "    <p style=\"color:red\">\n",
    "        3. HashingTF để tính TF (Tern Frequency)\n",
    "    </p>\n",
    "    <p style=\"color:red\">\n",
    "        4. IDF để tính IDF, lúc này ứng với mỗi câu sẽ có một cột features là một vector đại diện cho dạng biểu diễn của câu đó\n",
    "    </p>\n",
    "    <p style=\"color:red\">\n",
    "        5. MultilayerPerceptronClassifier là model Deep Learning trong Spark dùng để train tập dữ liệu đã chuẩn bị ở trên\n",
    "    </p>\n",
    "</h4>"
   ]
  },
  {
   "cell_type": "code",
   "execution_count": 19,
   "metadata": {
    "ExecuteTime": {
     "end_time": "2019-11-11T05:29:16.446441Z",
     "start_time": "2019-11-11T05:29:15.330033Z"
    }
   },
   "outputs": [],
   "source": [
    "# Tokenize (rời rạc hóa) word trong câu in data train\n",
    "tk_train = Tokenizer(inputCol=\"sentence\", outputCol=\"words_raw\")\n",
    "\n",
    "# loại bỏ từ stop word ---> là những từ không mang ý nghĩa phân biệt nhiều,\n",
    "# cũng như lập lại quá nhiều lần trong các câu, ví dụ: I, You,...\n",
    "stop_remover_train = StopWordsRemover(inputCol=\"words_raw\", outputCol=\"filtered\")\n",
    "\n",
    "# tính TF (Tern Frequency)\n",
    "tf_train = HashingTF(inputCol=\"filtered\", outputCol=\"rawFeatures\", numFeatures=NUMBER_FEATURE_VECTOR)\n",
    "\n",
    "# tính IDF (Invert Tern Frequency)\n",
    "idf_train = IDF(inputCol=\"rawFeatures\", outputCol=\"features\")\n",
    "\n",
    "# sử dụng một mô hình classification là MultiLayer, định nghĩa số Layers\n",
    "layers = [NUMBER_FEATURE_VECTOR, NUMBER_FEATURE_VECTOR * 2, NUMBER_FEATURE_VECTOR, 2]\n",
    "mlp_trainer = MultilayerPerceptronClassifier(featuresCol=\"features\", labelCol=\"label\", layers=layers, seed=123456)"
   ]
  },
  {
   "cell_type": "code",
   "execution_count": 20,
   "metadata": {
    "ExecuteTime": {
     "end_time": "2019-11-11T05:29:21.424420Z",
     "start_time": "2019-11-11T05:29:21.376421Z"
    }
   },
   "outputs": [
    {
     "data": {
      "text/plain": [
       "Tokenizer_2582e78e57d0"
      ]
     },
     "execution_count": 20,
     "metadata": {},
     "output_type": "execute_result"
    }
   ],
   "source": [
    "tk_train"
   ]
  },
  {
   "cell_type": "code",
   "execution_count": 21,
   "metadata": {
    "ExecuteTime": {
     "end_time": "2019-11-11T05:29:25.529252Z",
     "start_time": "2019-11-11T05:29:25.506738Z"
    }
   },
   "outputs": [
    {
     "data": {
      "text/plain": [
       "StopWordsRemover_dd87be6c96ed"
      ]
     },
     "execution_count": 21,
     "metadata": {},
     "output_type": "execute_result"
    }
   ],
   "source": [
    "stop_remover_train"
   ]
  },
  {
   "cell_type": "code",
   "execution_count": 22,
   "metadata": {
    "ExecuteTime": {
     "end_time": "2019-11-11T05:29:29.698340Z",
     "start_time": "2019-11-11T05:29:29.647450Z"
    }
   },
   "outputs": [
    {
     "data": {
      "text/plain": [
       "HashingTF_9b87097d3695"
      ]
     },
     "execution_count": 22,
     "metadata": {},
     "output_type": "execute_result"
    }
   ],
   "source": [
    "tf_train"
   ]
  },
  {
   "cell_type": "code",
   "execution_count": 23,
   "metadata": {
    "ExecuteTime": {
     "end_time": "2019-11-11T05:29:33.437892Z",
     "start_time": "2019-11-11T05:29:33.283377Z"
    }
   },
   "outputs": [
    {
     "data": {
      "text/plain": [
       "IDF_65ddc58ad95a"
      ]
     },
     "execution_count": 23,
     "metadata": {},
     "output_type": "execute_result"
    }
   ],
   "source": [
    "idf_train"
   ]
  },
  {
   "cell_type": "code",
   "execution_count": 24,
   "metadata": {
    "ExecuteTime": {
     "end_time": "2019-11-11T05:29:38.273144Z",
     "start_time": "2019-11-11T05:29:38.246497Z"
    }
   },
   "outputs": [
    {
     "data": {
      "text/plain": [
       "MultilayerPerceptronClassifier_c986d7557bfa"
      ]
     },
     "execution_count": 24,
     "metadata": {},
     "output_type": "execute_result"
    }
   ],
   "source": [
    "mlp_trainer"
   ]
  },
  {
   "cell_type": "markdown",
   "metadata": {},
   "source": [
    "<h4>\n",
    "    <p style=\"color:red\">\n",
    "        Tạo đối tượng Pipeline gồm các bước như đã định nghĩa ở trên\n",
    "    </p>\n",
    "</h4>"
   ]
  },
  {
   "cell_type": "code",
   "execution_count": 25,
   "metadata": {
    "ExecuteTime": {
     "end_time": "2019-11-11T05:29:47.762239Z",
     "start_time": "2019-11-11T05:29:47.724214Z"
    }
   },
   "outputs": [],
   "source": [
    "pl = Pipeline(stages=[tk_train, stop_remover_train, tf_train, idf_train, mlp_trainer])"
   ]
  },
  {
   "cell_type": "markdown",
   "metadata": {},
   "source": [
    "<h4>\n",
    "    <p>\n",
    "        Bắt đầu Train tập dữ liệu\n",
    "    </p>\n",
    "</h4>"
   ]
  },
  {
   "cell_type": "code",
   "execution_count": 26,
   "metadata": {
    "ExecuteTime": {
     "end_time": "2019-11-11T06:23:11.950415Z",
     "start_time": "2019-11-11T05:30:12.399449Z"
    },
    "scrolled": true
   },
   "outputs": [],
   "source": [
    "model = pl.fit(sentenceDataFrame_train)"
   ]
  },
  {
   "cell_type": "code",
   "execution_count": 27,
   "metadata": {
    "ExecuteTime": {
     "end_time": "2019-11-11T07:02:00.320197Z",
     "start_time": "2019-11-11T07:01:57.870077Z"
    }
   },
   "outputs": [
    {
     "data": {
      "text/plain": [
       "DataFrame[id: bigint, sentence: string, label: bigint, words_raw: array<string>, filtered: array<string>, rawFeatures: vector, features: vector, rawPrediction: vector, probability: vector, prediction: double]"
      ]
     },
     "execution_count": 27,
     "metadata": {},
     "output_type": "execute_result"
    }
   ],
   "source": [
    "transformedFeatures = model.transform(sentenceDataFrame_train)\n",
    "transformedFeatures"
   ]
  },
  {
   "cell_type": "code",
   "execution_count": 28,
   "metadata": {
    "ExecuteTime": {
     "end_time": "2019-11-11T07:02:40.221974Z",
     "start_time": "2019-11-11T07:02:34.148184Z"
    }
   },
   "outputs": [
    {
     "name": "stdout",
     "output_type": "stream",
     "text": [
      "+---+--------------------+-----+--------------------+--------------------+--------------------+--------------------+--------------------+--------------------+----------+\n",
      "| id|            sentence|label|           words_raw|            filtered|         rawFeatures|            features|       rawPrediction|         probability|prediction|\n",
      "+---+--------------------+-----+--------------------+--------------------+--------------------+--------------------+--------------------+--------------------+----------+\n",
      "|  0|the sopranos was ...|    1|[the, sopranos, w...|[sopranos, probab...|(500,[5,12,19,21,...|(500,[5,12,19,21,...|[-1.1170839244941...|[0.20644935629981...|       1.0|\n",
      "|  1|revenge is the th...|    1|[revenge, is, the...|[revenge, theme, ...|(500,[10,18,26,47...|(500,[10,18,26,47...|[-1.3511970707784...|[0.14431969220346...|       1.0|\n",
      "|  2|i know some peopl...|    1|[i, know, some, p...|[know, people, th...|(500,[0,1,3,9,12,...|(500,[0,1,3,9,12,...|[-2.1759199481953...|[0.03021571833480...|       1.0|\n",
      "|  3|my very favorite ...|    1|[my, very, favori...|[favorite, charac...|(500,[1,6,17,19,3...|(500,[1,6,17,19,3...|[-2.1897183339949...|[0.03049991681567...|       1.0|\n",
      "|  4|i don't understan...|    1|[i, don't, unders...|[understand, obje...|(500,[1,4,15,37,3...|(500,[1,4,15,37,3...|[-0.8935942853674...|[0.28495112752634...|       1.0|\n",
      "|  5|my name is heathe...|    1|[my, name, is, he...|[name, heather, g...|(500,[4,10,15,26,...|(500,[4,10,15,26,...|[-0.6623756837981...|[0.40812886183523...|       1.0|\n",
      "|  6|when the bourne i...|    1|[when, the, bourn...|[bourne, identity...|(500,[0,1,4,5,10,...|(500,[0,1,4,5,10,...|[-3.1462629254645...|[0.00427205229646...|       1.0|\n",
      "|  7|this was one of t...|    1|[this, was, one, ...|[one, $.50, cent,...|(500,[6,8,9,13,18...|(500,[6,8,9,13,18...|[-2.4054474673384...|[0.01913999782157...|       1.0|\n",
      "|  8|the life and time...|    1|[the, life, and, ...|[life, time, litt...|(500,[3,4,8,10,12...|(500,[3,4,8,10,12...|[-1.6424883466851...|[0.07466999498106...|       1.0|\n",
      "|  9|watch on the rhin...|    1|[watch, on, the, ...|[watch, rhine, on...|(500,[3,12,22,29,...|(500,[3,12,22,29,...|[-2.9595933152083...|[0.00577397714994...|       1.0|\n",
      "| 10|skip mccoy (richa...|    1|[skip, mccoy, (ri...|[skip, mccoy, (ri...|(500,[3,18,35,37,...|(500,[3,18,35,37,...|[-1.8869210555479...|[0.05189665627220...|       1.0|\n",
      "| 11|though i really d...|    1|[though, i, reall...|[though, really, ...|(500,[9,21,24,34,...|(500,[9,21,24,34,...|[-0.3893217433509...|[0.52202628358521...|       0.0|\n",
      "| 12|unfortunately, be...|    1|[unfortunately,, ...|[unfortunately,, ...|(500,[0,6,8,13,18...|(500,[0,6,8,13,18...|[-1.0253737060384...|[0.25974662453985...|       1.0|\n",
      "| 13|i have seen dirty...|    1|[i, have, seen, d...|[seen, dirty, wor...|(500,[0,23,24,25,...|(500,[0,23,24,25,...|[-2.9365858902361...|[0.00719248632022...|       1.0|\n",
      "| 14|a wonderful movie...|    1|[a, wonderful, mo...|[wonderful, movie...|(500,[15,35,37,85...|(500,[15,35,37,85...|[-4.2993508282443...|[5.12412073611263...|       1.0|\n",
      "| 15|this film has sce...|    1|[this, film, has,...|[film, scenes, co...|(500,[3,11,15,26,...|(500,[3,11,15,26,...|[-0.8583692892467...|[0.28946536462433...|       1.0|\n",
      "| 16|to me, this revie...|    1|[to, me,, this, r...|[me,, review, may...|(500,[0,1,2,5,7,1...|(500,[0,1,2,5,7,1...|[-0.2706766168564...|[0.56145244460855...|       0.0|\n",
      "| 17|when you typicall...|    1|[when, you, typic...|[typically, watch...|(500,[3,13,19,24,...|(500,[3,13,19,24,...|[-4.4855530505893...|[3.70122124696930...|       1.0|\n",
      "| 18|im not a big tim ...|    1|[im, not, a, big,...|[im, big, tim, ma...|(500,[3,11,26,27,...|(500,[3,11,26,27,...|[-0.8637249774297...|[0.27270549646664...|       1.0|\n",
      "| 19|knowing when to e...|    1|[knowing, when, t...|[knowing, end, mo...|(500,[2,3,5,6,9,1...|(500,[2,3,5,6,9,1...|[-3.9040812450080...|[0.00111390689398...|       1.0|\n",
      "| 20|getting to work o...|    1|[getting, to, wor...|[getting, work, f...|(500,[1,3,5,7,11,...|(500,[1,3,5,7,11,...|[-1.4648845817645...|[0.10799204001336...|       1.0|\n",
      "| 21|i think \"anyway.....|    1|[i, think, \"anywa...|[think, \"anyway.....|(500,[0,3,5,6,10,...|(500,[0,3,5,6,10,...|[-4.0819444697080...|[6.65447838652004...|       1.0|\n",
      "| 22|i have waited a l...|    1|[i, have, waited,...|[waited, long, ti...|(500,[3,7,24,46,5...|(500,[3,7,24,46,5...|[-0.5386339385820...|[0.42511146670149...|       1.0|\n",
      "| 23|i loved this film...|    1|[i, loved, this, ...|[loved, film., th...|(500,[3,4,5,9,85,...|(500,[3,4,5,9,85,...|[-2.3423687244381...|[0.02484612947748...|       1.0|\n",
      "| 24|pet sematary is a...|    1|[pet, sematary, i...|[pet, sematary, g...|(500,[3,24,25,32,...|(500,[3,24,25,32,...|[-1.4688211282405...|[0.12483567291489...|       1.0|\n",
      "| 25|as a sequel,this ...|    1|[as, a, sequel,th...|[sequel,this, bad...|(500,[0,3,5,9,13,...|(500,[0,3,5,9,13,...|[-1.3018670739680...|[0.13918899328783...|       1.0|\n",
      "| 26|i think that most...|    1|[i, think, that, ...|[think, folks, po...|(500,[0,1,3,5,10,...|(500,[0,1,3,5,10,...|[-3.2001529662545...|[0.00507259698592...|       1.0|\n",
      "| 27|visconti's first ...|    1|[visconti's, firs...|[visconti's, firs...|(500,[3,32,40,47,...|(500,[3,32,40,47,...|[0.11118140161788...|[0.74595929021314...|       0.0|\n",
      "| 28|this is an excell...|    1|[this, is, an, ex...|[excellent, docum...|(500,[3,9,10,32,6...|(500,[3,9,10,32,6...|[-0.4201814164607...|[0.53585651758663...|       0.0|\n",
      "| 29|this is arguably ...|    1|[this, is, arguab...|[arguably, john, ...|(500,[6,7,10,12,1...|(500,[6,7,10,12,1...|[-2.9309467839326...|[0.00866710592892...|       1.0|\n",
      "| 30|i actually though...|    1|[i, actually, tho...|[actually, though...|(500,[0,3,5,10,13...|(500,[0,3,5,10,13...|[-0.2780498173974...|[0.57598723559216...|       0.0|\n",
      "| 31|this was an exter...|    1|[this, was, an, e...|[exteremely, good...|(500,[40,44,63,64...|(500,[40,44,63,64...|[-0.5696828067344...|[0.45422193275049...|       1.0|\n",
      "| 32|the \"movie aimed ...|    1|[the, \"movie, aim...|[\"movie, aimed, a...|(500,[3,10,11,13,...|(500,[3,10,11,13,...|[-0.2710668660314...|[0.54352481708785...|       0.0|\n",
      "| 33|i just saw this f...|    1|[i, just, saw, th...|[saw, film,, firs...|(500,[3,29,32,44,...|(500,[3,29,32,44,...|[-1.7328049566692...|[0.07497086412600...|       1.0|\n",
      "| 34|this is a great m...|    1|[this, is, a, gre...|[great, movie., l...|(500,[13,14,17,23...|(500,[13,14,17,23...|[-0.5606699703326...|[0.44128566927604...|       1.0|\n",
      "| 35|the movie was sub...|    1|[the, movie, was,...|[movie, sub-par,,...|(500,[5,25,32,44,...|(500,[5,25,32,44,...|[-1.1748195890162...|[0.19588127385491...|       1.0|\n",
      "| 36|personal taste ru...|    1|[personal, taste,...|[personal, taste,...|(500,[5,11,12,14,...|(500,[5,11,12,14,...|[-1.6199515111892...|[0.08599789859419...|       1.0|\n",
      "| 37|i didn't at all t...|    1|[i, didn't, at, a...|[think, way,, fri...|(500,[2,5,7,9,10,...|(500,[2,5,7,9,10,...|[-3.1768733011334...|[0.00425181904700...|       1.0|\n",
      "| 38|i got this film a...|    1|[i, got, this, fi...|[got, film, month...|(500,[1,3,7,8,15,...|(500,[1,3,7,8,15,...|[-0.5913211171795...|[0.43702078795408...|       1.0|\n",
      "| 39|i am so upset tha...|    1|[i, am, so, upset...|[upset, abc, givi...|(500,[0,5,17,19,2...|(500,[0,5,17,19,2...|[-1.2396406730632...|[0.15785486300315...|       1.0|\n",
      "| 40|i don't want to b...|    1|[i, don't, want, ...|[want, bore, ever...|(500,[0,5,13,19,2...|(500,[0,5,13,19,2...|[-2.0676335331537...|[0.03969143995510...|       1.0|\n",
      "| 41|though this may n...|    1|[though, this, ma...|[though, may, nec...|(500,[3,4,8,15,23...|(500,[3,4,8,15,23...|[-1.7570040904322...|[0.07077301981150...|       1.0|\n",
      "| 42|i was forced to s...|    1|[i, was, forced, ...|[forced, see, a),...|(500,[10,12,15,25...|(500,[10,12,15,25...|[-1.3096623725292...|[0.16890865757230...|       1.0|\n",
      "| 43|(no need to recap...|    1|[(no, need, to, r...|[(no, need, recap...|(500,[0,2,3,5,7,1...|(500,[0,2,3,5,7,1...|[-2.9815209878867...|[0.00556840057359...|       1.0|\n",
      "| 44|what can i say. o...|    1|[what, can, i, sa...|[say., oh, yeah, ...|(500,[46,50,56,57...|(500,[46,50,56,57...|[-0.8901734329671...|[0.32230374635544...|       1.0|\n",
      "| 45|\"world's finest\" ...|    1|[\"world's, finest...|[\"world's, finest...|(500,[0,5,6,9,10,...|(500,[0,5,6,9,10,...|[-0.9060804326334...|[0.28120567133453...|       1.0|\n",
      "| 46|really, i think t...|    1|[really,, i, thin...|[really,, think, ...|(500,[0,3,5,11,13...|(500,[0,3,5,11,13...|[-0.8989032737375...|[0.29930469444646...|       1.0|\n",
      "| 47|this is a neat li...|    1|[this, is, a, nea...|[neat, little, cr...|(500,[27,30,33,37...|(500,[27,30,33,37...|[0.53515777168661...|[0.88529538510976...|       0.0|\n",
      "| 48|like other people...|    1|[like, other, peo...|[like, people, co...|(500,[12,13,33,35...|(500,[12,13,33,35...|[-2.6344260203619...|[0.01324378743123...|       1.0|\n",
      "| 49|as a westerner wa...|    1|[as, a, westerner...|[westerner, watch...|(500,[13,15,25,33...|(500,[13,15,25,33...|[-3.3203544324547...|[0.00340648298458...|       1.0|\n",
      "+---+--------------------+-----+--------------------+--------------------+--------------------+--------------------+--------------------+--------------------+----------+\n",
      "only showing top 50 rows\n",
      "\n"
     ]
    }
   ],
   "source": [
    "transformedFeatures.show(50)"
   ]
  },
  {
   "cell_type": "markdown",
   "metadata": {},
   "source": [
    "<h4>\n",
    "    <p style=\"color:red\">\n",
    "        Lưu lại model đã train, Lưu ý: là phải lưu model dưới dạng một hệ thống file phân tán như Hadoop\n",
    "    </p>\n",
    "</h4>"
   ]
  },
  {
   "cell_type": "code",
   "execution_count": 29,
   "metadata": {
    "ExecuteTime": {
     "end_time": "2019-11-11T07:03:59.465838Z",
     "start_time": "2019-11-11T07:03:03.274838Z"
    }
   },
   "outputs": [],
   "source": [
    "model.write().overwrite().save(\"hdfs://s14e18f4e58324b66b78ecd8c831a0c6413-master.uitlab.com:9000/sparkdata/pl2.model\")"
   ]
  },
  {
   "cell_type": "markdown",
   "metadata": {},
   "source": [
    "<h4>\n",
    "    <p style=\"color:blue\">\n",
    "        Khai cần sử dụng lại model đã lưu thì dùng lệnh dưới đây\n",
    "    </p>\n",
    "</h4>"
   ]
  },
  {
   "cell_type": "code",
   "execution_count": 30,
   "metadata": {
    "ExecuteTime": {
     "end_time": "2019-11-11T07:05:56.313558Z",
     "start_time": "2019-11-11T07:05:56.252024Z"
    }
   },
   "outputs": [],
   "source": [
    "from pyspark.ml import PipelineModel"
   ]
  },
  {
   "cell_type": "code",
   "execution_count": 31,
   "metadata": {
    "ExecuteTime": {
     "end_time": "2019-11-11T07:06:34.883766Z",
     "start_time": "2019-11-11T07:06:02.996353Z"
    }
   },
   "outputs": [],
   "source": [
    "pl_model = PipelineModel.load(\"hdfs://s14e18f4e58324b66b78ecd8c831a0c6413-master.uitlab.com:9000/sparkdata/pl2.model\")"
   ]
  },
  {
   "cell_type": "markdown",
   "metadata": {},
   "source": [
    "<h4>\n",
    "    <p>\n",
    "        Kết Thúc một phiên làm việc trong Spark\n",
    "    </p>\n",
    "</h4>"
   ]
  },
  {
   "cell_type": "code",
   "execution_count": 32,
   "metadata": {
    "ExecuteTime": {
     "end_time": "2019-11-11T07:06:49.122070Z",
     "start_time": "2019-11-11T07:06:47.863663Z"
    },
    "scrolled": true
   },
   "outputs": [
    {
     "name": "stdout",
     "output_type": "stream",
     "text": [
      "end_of_train_and_save_Multilayers(Basic Deep Model) in Spark\n"
     ]
    }
   ],
   "source": [
    "print(\"end_of_train_and_save_Multilayers(Basic Deep Model) in Spark\")\n",
    "spark.stop()"
   ]
  },
  {
   "cell_type": "code",
   "execution_count": null,
   "metadata": {},
   "outputs": [],
   "source": []
  },
  {
   "cell_type": "code",
   "execution_count": null,
   "metadata": {},
   "outputs": [],
   "source": []
  }
 ],
 "metadata": {
  "kernelspec": {
   "display_name": "Python 3",
   "language": "python",
   "name": "python3"
  },
  "language_info": {
   "codemirror_mode": {
    "name": "ipython",
    "version": 3
   },
   "file_extension": ".py",
   "mimetype": "text/x-python",
   "name": "python",
   "nbconvert_exporter": "python",
   "pygments_lexer": "ipython3",
   "version": "3.6.6"
  },
  "latex_envs": {
   "LaTeX_envs_menu_present": true,
   "autoclose": false,
   "autocomplete": true,
   "bibliofile": "biblio.bib",
   "cite_by": "apalike",
   "current_citInitial": 1,
   "eqLabelWithNumbers": true,
   "eqNumInitial": 1,
   "hotkeys": {
    "equation": "Ctrl-E",
    "itemize": "Ctrl-I"
   },
   "labels_anchors": false,
   "latex_user_defs": false,
   "report_style_numbering": false,
   "user_envs_cfg": false
  },
  "toc": {
   "base_numbering": 1,
   "nav_menu": {},
   "number_sections": true,
   "sideBar": true,
   "skip_h1_title": false,
   "title_cell": "Table of Contents",
   "title_sidebar": "Contents",
   "toc_cell": false,
   "toc_position": {},
   "toc_section_display": true,
   "toc_window_display": false
  },
  "varInspector": {
   "cols": {
    "lenName": 16,
    "lenType": 16,
    "lenVar": 40
   },
   "kernels_config": {
    "python": {
     "delete_cmd_postfix": "",
     "delete_cmd_prefix": "del ",
     "library": "var_list.py",
     "varRefreshCmd": "print(var_dic_list())"
    },
    "r": {
     "delete_cmd_postfix": ") ",
     "delete_cmd_prefix": "rm(",
     "library": "var_list.r",
     "varRefreshCmd": "cat(var_dic_list()) "
    }
   },
   "types_to_exclude": [
    "module",
    "function",
    "builtin_function_or_method",
    "instance",
    "_Feature"
   ],
   "window_display": true
  }
 },
 "nbformat": 4,
 "nbformat_minor": 2
}
